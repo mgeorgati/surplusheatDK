{
 "cells": [
  {
   "cell_type": "code",
   "execution_count": 1,
   "metadata": {},
   "outputs": [],
   "source": [
    "import os\n",
    "import geopandas as gpd\n",
    "from utils_viz import plot_map"
   ]
  },
  {
   "cell_type": "code",
   "execution_count": 2,
   "metadata": {},
   "outputs": [],
   "source": [
    "year=0\n",
    "df = gpd.read_file(f'../data/processed/municipality_varmeplan_potentials.geojson')\n",
    "df = df.to_crs(epsg=3857)\n",
    "df = df [ df['totalpot_share_of_total_heat_production_%']> 0]"
   ]
  },
  {
   "cell_type": "code",
   "execution_count": 5,
   "metadata": {},
   "outputs": [
    {
     "data": {
      "text/plain": [
       "Index(['municipality_code', 'total_municipality_heat_production_TJ',\n",
       "       'total_municipality_heat_production_GJ', 'kommuneKod', 'GJ_samlet',\n",
       "       'GJ_over_80', 'GJ_60_80C', 'GJ_under_6',\n",
       "       'totalpot_share_of_total_heat_production_%',\n",
       "       'ht_share_of_total_heat_production_%',\n",
       "       'mt_share_of_total_heat_production_%',\n",
       "       'lt_share_of_total_heat_production_%', 'municipality_name',\n",
       "       'municipality_name_shorted', 'geometry', 'coords'],\n",
       "      dtype='object')"
      ]
     },
     "execution_count": 5,
     "metadata": {},
     "output_type": "execute_result"
    }
   ],
   "source": [
    "df.columns"
   ]
  },
  {
   "cell_type": "code",
   "execution_count": null,
   "metadata": {},
   "outputs": [],
   "source": [
    "df.drop_duplicates().sort_values(by='ht_share_of_total_heat_production_%', ascending=False).head(6)"
   ]
  },
  {
   "cell_type": "code",
   "execution_count": 7,
   "metadata": {},
   "outputs": [
    {
     "name": "stdout",
     "output_type": "stream",
     "text": [
      "9.24748101447976\n",
      "1.46726459710707\n",
      "1.1063100267265442\n",
      "6.673906390648268\n"
     ]
    }
   ],
   "source": [
    "print((df ['GJ_samlet'].sum() )*100/ df['total_municipality_heat_production_GJ'].sum())\n",
    "print((df ['GJ_over_80'].sum() )*100/ df['total_municipality_heat_production_GJ'].sum())\n",
    "print((df ['GJ_60_80C'].sum() )*100/ df['total_municipality_heat_production_GJ'].sum())\n",
    "print((df ['GJ_under_6'].sum() )*100/ df['total_municipality_heat_production_GJ'].sum())"
   ]
  },
  {
   "cell_type": "code",
   "execution_count": 9,
   "metadata": {},
   "outputs": [],
   "source": [
    "column_to_map = 'ht_share_of_total_heat_production_%'\n",
    "filename ='SH_varmeplan_ht_share_of_total_heat_production'\n",
    "os.makedirs('../img', exist_ok=True)\n",
    "\n",
    "plot_map(df, column_to_map, filename, year)\n"
   ]
  },
  {
   "cell_type": "code",
   "execution_count": null,
   "metadata": {},
   "outputs": [],
   "source": []
  },
  {
   "cell_type": "code",
   "execution_count": null,
   "metadata": {},
   "outputs": [],
   "source": []
  }
 ],
 "metadata": {
  "kernelspec": {
   "display_name": "basic",
   "language": "python",
   "name": "python3"
  },
  "language_info": {
   "codemirror_mode": {
    "name": "ipython",
    "version": 3
   },
   "file_extension": ".py",
   "mimetype": "text/x-python",
   "name": "python",
   "nbconvert_exporter": "python",
   "pygments_lexer": "ipython3",
   "version": "3.12.2"
  }
 },
 "nbformat": 4,
 "nbformat_minor": 2
}
