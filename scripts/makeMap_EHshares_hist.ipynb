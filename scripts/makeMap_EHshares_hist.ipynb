{
 "cells": [
  {
   "cell_type": "code",
   "execution_count": 1,
   "metadata": {},
   "outputs": [],
   "source": [
    "import os\n",
    "import geopandas as gpd\n",
    "from utils_viz import plot_map"
   ]
  },
  {
   "cell_type": "code",
   "execution_count": 2,
   "metadata": {},
   "outputs": [],
   "source": [
    "years=[2002,1994]"
   ]
  },
  {
   "cell_type": "code",
   "execution_count": 3,
   "metadata": {},
   "outputs": [],
   "source": [
    "for year in years:\n",
    "    df = gpd.read_file(f'../data/processed/municipality_excess_heat_{year}.geojson')\n",
    "    df = df.to_crs(epsg=3857)\n",
    "    df = df [ df['share_of_total_heat_production_TJ']> 0]\n",
    "    filename='surplusheat_shareOverDHproduction'\n",
    "    column_to_map= 'share_of_total_heat_production_TJ'\n",
    "    os.makedirs('../img', exist_ok=True)\n",
    "\n",
    "    plot_map(df, filename, year)\n",
    "    "
   ]
  },
  {
   "cell_type": "code",
   "execution_count": null,
   "metadata": {},
   "outputs": [],
   "source": []
  },
  {
   "cell_type": "code",
   "execution_count": null,
   "metadata": {},
   "outputs": [],
   "source": []
  }
 ],
 "metadata": {
  "kernelspec": {
   "display_name": "basic",
   "language": "python",
   "name": "python3"
  },
  "language_info": {
   "codemirror_mode": {
    "name": "ipython",
    "version": 3
   },
   "file_extension": ".py",
   "mimetype": "text/x-python",
   "name": "python",
   "nbconvert_exporter": "python",
   "pygments_lexer": "ipython3",
   "version": "3.12.2"
  }
 },
 "nbformat": 4,
 "nbformat_minor": 2
}
