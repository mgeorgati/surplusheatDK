{
 "cells": [
  {
   "cell_type": "code",
   "execution_count": 16,
   "metadata": {},
   "outputs": [],
   "source": [
    "import pandas as pd\n",
    "import os\n",
    "import geopandas as gpd\n",
    "import matplotlib.pyplot as plt\n",
    "import seaborn as sns\n",
    "cwd = os.getcwd()\n",
    "from utils import rename_columns,filter_by_year,filter_columns,process_data\n"
   ]
  },
  {
   "cell_type": "markdown",
   "metadata": {},
   "source": [
    "##### Estimate the current utilisation of SH by sector"
   ]
  },
  {
   "cell_type": "code",
   "execution_count": null,
   "metadata": {},
   "outputs": [],
   "source": [
    "# configure the current data \n",
    "renamed_columns_list = {\n",
    "    \"vaerk_id\": \"plant_id\",\n",
    "    \"aar\": \"year\",\n",
    "    \"anlaegstype_navn\": \"plant_type\",\n",
    "    \"vaerk_kommune\": \"municipality_code\",\n",
    "    \"varmeprod_TJ\": \"heat_production_TJ\",\n",
    "    \"braendselsfrit_TJ\": 'fuel_free_TJ',\n",
    "    \"vrktypeid\": 'vrk_Id'\n",
    "}\n",
    "\n",
    "relevant_columns =['plant_id', 'year','municipality_code', 'sector','plant_type', 'heat_production_TJ','fuel_free_TJ','vrk_Id']\n",
    "year=2022\n",
    "# Read the data\n",
    "df_raw = pd.read_excel('../data/EPT_DEA/6_ept_produktions-_og_forbrugsdata_2021-2023.xlsx', sheet_name='EPT2021-2023')\n",
    "df_raw= rename_columns(df_raw,renamed_columns_list)\n",
    "\n",
    "df_raw = filter_by_year(df_raw,year)\n",
    "df_raw = filter_columns(df_raw,relevant_columns)\n",
    "df_raw\n"
   ]
  },
  {
   "cell_type": "code",
   "execution_count": null,
   "metadata": {},
   "outputs": [],
   "source": [
    "df_raw['heat_production_TJ'].sum()"
   ]
  },
  {
   "cell_type": "code",
   "execution_count": null,
   "metadata": {},
   "outputs": [],
   "source": [
    "df = df_raw\n",
    "df = df[( df['fuel_free_TJ'] >0 ) & (df['vrk_Id'] == 'ER')]\n",
    "df"
   ]
  },
  {
   "cell_type": "code",
   "execution_count": null,
   "metadata": {},
   "outputs": [],
   "source": []
  },
  {
   "cell_type": "code",
   "execution_count": 10,
   "metadata": {},
   "outputs": [],
   "source": [
    "ndf =df.groupby( 'sector')['heat_production_TJ'].agg('sum')\n",
    "ndf.to_excel('../data/processed/currentSH_bysector.xlsx')"
   ]
  },
  {
   "cell_type": "code",
   "execution_count": 11,
   "metadata": {},
   "outputs": [],
   "source": [
    "municipality_df =df.groupby( ['municipality_code','sector'])['heat_production_TJ'].agg('sum')\n",
    "municipality_df.to_excel('../data/processed/currentSH_bysector_bymunicipality.xlsx')"
   ]
  },
  {
   "cell_type": "markdown",
   "metadata": {},
   "source": [
    "##### Estimate the Varmeplant technical potentials of SH by sector"
   ]
  },
  {
   "cell_type": "code",
   "execution_count": null,
   "metadata": {},
   "outputs": [],
   "source": [
    "#a = gpd.read_file('../data/Varmeplan Danmark 2021/industrial_excess_heat_new_classes.geojson')\n",
    "points = gpd.read_file('../data/Varmeplan Danmark 2021/points_in_DH.geojson')\n",
    "#"
   ]
  },
  {
   "cell_type": "code",
   "execution_count": null,
   "metadata": {},
   "outputs": [],
   "source": [
    "points.drop(columns=['SectorClas','SectorCl_1','sectorcl_2','sectorcl_3','geometry'],inplace=True)\n",
    "points.head(3)"
   ]
  },
  {
   "cell_type": "code",
   "execution_count": 5,
   "metadata": {},
   "outputs": [],
   "source": [
    "potentials =points.groupby('FiveClasses').agg({'GJ_samlet':'sum','GJ_over_80':'sum','GJ_60_80C':'sum','GJ_under_6':'sum' })\n",
    "potentials.rename(columns={'GJ_samlet':'Total_GJ','GJ_over_80':'HighTemp_GJ','GJ_60_80C':'MediumTemp_GJ','GJ_under_6':'LowTemp_GJ'},inplace=True)\n",
    "potentials.to_excel('../data/processed/varmplanSH_bysector.xlsx')"
   ]
  },
  {
   "cell_type": "code",
   "execution_count": 6,
   "metadata": {},
   "outputs": [],
   "source": [
    "potentials_bymunicipality =points.groupby(['kommuneNav','kommuneKod','FiveClasses']).agg({'GJ_samlet':'sum','GJ_over_80':'sum','GJ_60_80C':'sum',\t'GJ_under_6':'sum' })\n",
    "potentials_bymunicipality.rename(columns={'GJ_samlet':'Total_GJ','GJ_over_80':'HighTemp_GJ','GJ_60_80C':'MediumTemp_GJ','GJ_under_6':'LowTemp_GJ'},inplace=True)\n",
    "\n",
    "potentials_bymunicipality=potentials_bymunicipality.reset_index()\n",
    "potentials_bymunicipality.to_excel('../data/processed/varmplanSH_bysector_bymunicipality.xlsx')"
   ]
  },
  {
   "cell_type": "code",
   "execution_count": 12,
   "metadata": {},
   "outputs": [],
   "source": [
    "final=pd.concat([ndf.reset_index(),potentials.reset_index()], axis=1)"
   ]
  },
  {
   "cell_type": "code",
   "execution_count": null,
   "metadata": {},
   "outputs": [],
   "source": [
    "final"
   ]
  },
  {
   "cell_type": "code",
   "execution_count": 26,
   "metadata": {},
   "outputs": [],
   "source": [
    "#final.drop(columns=['sector'],inplace=True)\n",
    "final['Total_DHproduction_GJ'] = df_raw['heat_production_TJ'].sum()*1000 \n",
    "final['High temperature'] = final['HighTemp_GJ'] /final['Total_DHproduction_GJ'] *100\n",
    "final['Medium temperature'] = final['MediumTemp_GJ'] /final['Total_DHproduction_GJ'] *100\n",
    "final['Low temperature'] = final['LowTemp_GJ'] /final['Total_DHproduction_GJ'] *100\n",
    "final['Current_GJ'] = final['heat_production_TJ'] *1000\n",
    "final['Current utilisation'] = final['Current_GJ'] /final['Total_DHproduction_GJ']*100\n",
    "\n"
   ]
  },
  {
   "cell_type": "code",
   "execution_count": null,
   "metadata": {},
   "outputs": [],
   "source": [
    "final= final[[\"FiveClasses\",'Current utilisation', 'High temperature', 'Medium temperature','Low temperature']]"
   ]
  },
  {
   "cell_type": "code",
   "execution_count": null,
   "metadata": {},
   "outputs": [],
   "source": [
    "# Set figure size and style\n",
    "# Define custom colors for each category\n",
    "colors = {\n",
    "    \"High temperature\": \"#8c6b72\",  # Blue\n",
    "    \"Medium temperature\": \"#918ab5\",  # Orange\n",
    "    \"Low temperature\": \"#c7c1e8\",  # Green\n",
    "    \"Current utilisation\": \"#878f9c\"  # Red\n",
    "}\n",
    "\n",
    "# Set figure size and style\n",
    "plt.figure(figsize=(10, 8))\n",
    "sns.set_style(\"whitegrid\")\n",
    "\n",
    "# Plot stacked bar chart with assigned colors\n",
    "final.set_index(\"FiveClasses\").plot(\n",
    "    kind=\"bar\", stacked=True, color=[colors[col] for col in final.columns[1:]], figsize=(10, 6)\n",
    ")\n",
    "\n",
    "# Labels and title\n",
    "plt.xlabel(\"Sectors\", fontsize=12)\n",
    "plt.ylabel(\"Share of contribution (%)\", fontsize=12)\n",
    "#plt.title(\"Distribution of Heat Utilization Across Sectors\", fontsize=14)\n",
    "plt.xticks(rotation=45, ha=\"right\")\n",
    "plt.legend()\n",
    "plt.tight_layout()\n",
    "\n",
    "# Show plot\n",
    "plt.show()"
   ]
  }
 ],
 "metadata": {
  "kernelspec": {
   "display_name": "basic",
   "language": "python",
   "name": "python3"
  },
  "language_info": {
   "codemirror_mode": {
    "name": "ipython",
    "version": 3
   },
   "file_extension": ".py",
   "mimetype": "text/x-python",
   "name": "python",
   "nbconvert_exporter": "python",
   "pygments_lexer": "ipython3",
   "version": "3.12.2"
  }
 },
 "nbformat": 4,
 "nbformat_minor": 2
}
