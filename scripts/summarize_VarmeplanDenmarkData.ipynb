{
 "cells": [
  {
   "cell_type": "code",
   "execution_count": 1,
   "metadata": {},
   "outputs": [],
   "source": [
    "import pandas as pd\n",
    "import os\n",
    "import geopandas as gpd\n",
    "cwd = os.getcwd()\n",
    "from utils import rename_columns,filter_by_year,filter_columns,process_data\n",
    "from intersect_points import select_intersection_points"
   ]
  },
  {
   "cell_type": "code",
   "execution_count": 2,
   "metadata": {},
   "outputs": [],
   "source": [
    "points = select_intersection_points('../data/DHareas/DH_areas_plandata_DK.geojson', '../data/Varmeplan Danmark 2021/industrial_excess_heat_new_classes.geojson')\n",
    "points.to_file('../data/Varmeplan Danmark 2021/points_in_DH.geojson')"
   ]
  },
  {
   "cell_type": "code",
   "execution_count": 5,
   "metadata": {},
   "outputs": [],
   "source": [
    "points = gpd.read_file('../data/Varmeplan Danmark 2021/points_in_DH.geojson')"
   ]
  },
  {
   "cell_type": "code",
   "execution_count": null,
   "metadata": {},
   "outputs": [],
   "source": [
    "print(points['GJ_over_80'].sum(), gdf['GJ_over_80'].sum())"
   ]
  },
  {
   "cell_type": "code",
   "execution_count": 6,
   "metadata": {},
   "outputs": [],
   "source": [
    "# configure the data\n",
    "renamed_columns_list = {\n",
    "    \"vaerk_ID\": \"plant_id\",\n",
    "    \"aar\": \"year\",\n",
    "    \"anlaegstype_navn\": \"plant_type\",\n",
    "    \"vaerk_kommune\": \"municipality_code\",\n",
    "    \"varmeprod_TJ\": \"heat_production_TJ\"\n",
    "}\n",
    "\n",
    "relevant_columns =['plant_id', 'year','municipality_code', 'heat_production_TJ']\n",
    "year=2022\n",
    "# Read the data\n",
    "df_raw = pd.read_excel('../data/EPT_DEA/6_ept_produktions-_og_forbrugsdata_2021-2023.xlsx', sheet_name='EPT2021-2023')\n",
    "df_raw= rename_columns(df_raw,renamed_columns_list)\n",
    "df_raw = filter_columns(df_raw,relevant_columns)\n",
    "df = df_raw.copy()\n",
    "df = filter_by_year(df,year)\n",
    "\n",
    "# Calculate the total heat production per municipality (and year)\n",
    "df['total_municipality_heat_production_TJ'] = (\n",
    "    df.groupby(['year', 'municipality_code'])['heat_production_TJ']\n",
    "        .transform('sum')\n",
    ")"
   ]
  },
  {
   "cell_type": "code",
   "execution_count": 8,
   "metadata": {},
   "outputs": [],
   "source": [
    "df['total_municipality_heat_production_GJ'] = df['total_municipality_heat_production_TJ']*1000"
   ]
  },
  {
   "cell_type": "code",
   "execution_count": 9,
   "metadata": {},
   "outputs": [],
   "source": [
    "# Group by year, municipality_code, and plant_type to sum heat_production_TJ\n",
    "potentials_by_municipality = (\n",
    "    points.groupby([ 'kommuneKod'], as_index=False).agg(\n",
    "      {'GJ_samlet':'sum', 'GJ_over_80':'sum', 'GJ_60_80C':'sum', 'GJ_under_6':'sum'} )\n",
    ")\n",
    "\n",
    "share_potentials_by_municipality = df [['municipality_code', 'total_municipality_heat_production_TJ','total_municipality_heat_production_GJ']].merge(\n",
    "         potentials_by_municipality,\n",
    "                         right_on='kommuneKod', left_on='municipality_code')\n",
    "\n",
    "share_potentials_by_municipality['totalpot_share_of_total_heat_production_%'] = share_potentials_by_municipality['GJ_samlet'] * 100/ share_potentials_by_municipality['total_municipality_heat_production_GJ']\n",
    "share_potentials_by_municipality['ht_share_of_total_heat_production_%'] = share_potentials_by_municipality['GJ_over_80'] * 100/ share_potentials_by_municipality['total_municipality_heat_production_GJ']\n",
    "share_potentials_by_municipality['mt_share_of_total_heat_production_%'] = share_potentials_by_municipality['GJ_60_80C'] * 100/ share_potentials_by_municipality['total_municipality_heat_production_GJ']\n",
    "share_potentials_by_municipality['lt_share_of_total_heat_production_%'] = share_potentials_by_municipality['GJ_under_6'] * 100/ share_potentials_by_municipality['total_municipality_heat_production_GJ']"
   ]
  },
  {
   "cell_type": "code",
   "execution_count": 10,
   "metadata": {},
   "outputs": [],
   "source": [
    "# read the geojson file\n",
    "municipalities_gdf = gpd.read_file('../data/kommuner/kommuner.geojson')\n",
    "municipalities_gdf.drop(columns=['year'], inplace=True)"
   ]
  },
  {
   "cell_type": "code",
   "execution_count": 11,
   "metadata": {},
   "outputs": [],
   "source": [
    "gdf_joined = share_potentials_by_municipality.merge(municipalities_gdf, right_on='municipality_code', left_on= 'municipality_code')\n",
    "gdf_joined = gdf_joined.drop_duplicates()\n",
    "gdf_joined = gpd.GeoDataFrame(gdf_joined, geometry='geometry')\n",
    "os.makedirs('../data/processed', exist_ok=True)\n",
    "gdf_joined.to_file(f'../data/processed/municipality_varmeplan_potentials.geojson', driver='GeoJSON')"
   ]
  }
 ],
 "metadata": {
  "kernelspec": {
   "display_name": "basic",
   "language": "python",
   "name": "python3"
  },
  "language_info": {
   "codemirror_mode": {
    "name": "ipython",
    "version": 3
   },
   "file_extension": ".py",
   "mimetype": "text/x-python",
   "name": "python",
   "nbconvert_exporter": "python",
   "pygments_lexer": "ipython3",
   "version": "3.12.2"
  }
 },
 "nbformat": 4,
 "nbformat_minor": 2
}
