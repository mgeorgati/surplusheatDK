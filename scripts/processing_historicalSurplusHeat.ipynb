{
 "cells": [
  {
   "cell_type": "code",
   "execution_count": 5,
   "metadata": {},
   "outputs": [],
   "source": [
    "import pandas as pd\n",
    "import os\n",
    "import geopandas as gpd\n",
    "cwd = os.getcwd()\n",
    "from utils import rename_columns,filter_by_year,filter_columns,process_data\n"
   ]
  },
  {
   "cell_type": "code",
   "execution_count": 6,
   "metadata": {},
   "outputs": [],
   "source": [
    "# configure the data\n",
    "renamed_columns_list = {\n",
    "    \"Vaerk_ID\": \"plant_id\",\n",
    "    \"År\": \"year\",\n",
    "    \"Anlægstype_navn\": \"plant_type\",\n",
    "    \"Værk_Kommune\": \"municipality_code\",\n",
    "    \"Varmeprod_TJ\": \"heat_production_TJ\"\n",
    "}\n",
    "\n",
    "\n",
    "relevant_columns =['plant_id', 'year', 'plant_type','municipality_code', 'heat_production_TJ']\n"
   ]
  },
  {
   "cell_type": "code",
   "execution_count": 7,
   "metadata": {},
   "outputs": [],
   "source": [
    "# Read the data\n",
    "df_raw = pd.read_excel('../data/EPT_DEA/EPT 1994-2022 med varmelager.xlsx', sheet_name='RawData')\n",
    "df_raw= rename_columns(df_raw,renamed_columns_list)\n",
    "df_raw = filter_columns(df_raw,relevant_columns)\n"
   ]
  },
  {
   "cell_type": "code",
   "execution_count": 8,
   "metadata": {},
   "outputs": [],
   "source": [
    "# read the geojson file\n",
    "gdf = gpd.read_file('../data/kommuner/kommuner.geojson')\n",
    "gdf.drop(columns=['year'], inplace=True)"
   ]
  },
  {
   "cell_type": "code",
   "execution_count": 9,
   "metadata": {},
   "outputs": [],
   "source": [
    "years=[2002,1994]"
   ]
  },
  {
   "cell_type": "code",
   "execution_count": 10,
   "metadata": {},
   "outputs": [],
   "source": [
    "\n",
    "for year in years:\n",
    "    df = df_raw.copy()\n",
    "    df = filter_by_year(df,year)\n",
    "    df = process_data(df)\n",
    "    gdf_joined = gdf.merge(df, on='municipality_code', how='left')\n",
    "    os.makedirs('../data/processed', exist_ok=True)\n",
    "    gdf_joined.to_file(f'../data/processed/municipality_excess_heat_{year}.geojson', driver='GeoJSON')"
   ]
  }
 ],
 "metadata": {
  "kernelspec": {
   "display_name": "basic",
   "language": "python",
   "name": "python3"
  },
  "language_info": {
   "codemirror_mode": {
    "name": "ipython",
    "version": 3
   },
   "file_extension": ".py",
   "mimetype": "text/x-python",
   "name": "python",
   "nbconvert_exporter": "python",
   "pygments_lexer": "ipython3",
   "version": "3.12.2"
  }
 },
 "nbformat": 4,
 "nbformat_minor": 2
}
